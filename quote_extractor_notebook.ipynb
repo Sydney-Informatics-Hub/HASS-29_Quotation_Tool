{
 "cells": [
  {
   "cell_type": "markdown",
   "id": "9c2662a3",
   "metadata": {},
   "source": [
    "# QuotationTool\n",
    "In this notebook, you will use the *QuotationTool* to extract quotes from a list of texts. In addition to extracting the quotes, the tool also provides information about who the speakers are, the location of the quotes (and the speakers) within the text, the identified named entities, etc., which can be useful for your text analysis.  \n",
    "\n",
    "**Note:** This code has been adapted (with permission) from the [GenderGapTracker GitHub page](https://github.com/sfu-discourse-lab/GenderGapTracker/tree/master/NLP/main) and modified to run on a Jupyter Notebook. The quotation tool’s accuracy rate is evaluated in [this article](https://doi.org/10.1371/journal.pone.0245533)."
   ]
  },
  {
   "cell_type": "markdown",
   "id": "dc99ca86",
   "metadata": {},
   "source": [
    "## 1. Setup\n",
    "Before you begin, you need to import the QuotationTool and the necessary libraries and initiate them to run in this notebook."
   ]
  },
  {
   "cell_type": "code",
   "execution_count": 1,
   "id": "e6720419",
   "metadata": {},
   "outputs": [
    {
     "name": "stderr",
     "output_type": "stream",
     "text": [
      "[nltk_data] Downloading package punkt to /Users/sjuf9909/nltk_data...\n",
      "[nltk_data]   Package punkt is already up-to-date!\n",
      "fatal: destination path 'GenderGapTracker' already exists and is not an empty directory.\n"
     ]
    },
    {
     "name": "stdout",
     "output_type": "stream",
     "text": [
      "Loading spaCy language model...\n",
      "Finished loading.\n"
     ]
    }
   ],
   "source": [
    "# import the QuotationTool\n",
    "from extract_display_quotes import QuotationTool\n",
    "\n",
    "# initialize the QuotationTool\n",
    "qt = QuotationTool()"
   ]
  },
  {
   "cell_type": "markdown",
   "id": "a0a9cb8a",
   "metadata": {},
   "source": [
    "<div class=\"alert alert-block alert-warning\">\n",
    "<b>Installing Libraries</b> \n",
    "\n",
    "The requirements file <b>environment.yml</b> is included with this notebook. Take a look inside to find out what libraries you have just installed with the above command.\n",
    "\n",
    "</div>"
   ]
  },
  {
   "cell_type": "markdown",
   "id": "7cf517c9",
   "metadata": {},
   "source": [
    "## 2. Load the data\n",
    "This notebook will allow you to extract quotes directly from a text file (or a number of text files). Alternatively, you can also extract quotes from a text column inside your excel spreadsheet.  \n",
    "\n",
    "<table style='margin-left: 10px'><tr>\n",
    "<td> <img src='./img/txt_icon.png' style='width: 45px'/> </td>\n",
    "<td> <img src='./img/xlsx_icon.png' style='width: 55px'/> </td>\n",
    "<td> <img src='./img/csv_icon.png' style='width: 45px'/> </td>\n",
    "</tr></table>\n",
    "\n",
    "<div class=\"alert alert-block alert-danger\">\n",
    "<b>You will need to upload your text files here</b> \n",
    "    \n",
    "Please upload your text files (.txt) or your excel spreadsheet (.xlsx or .csv), if you have already stored your texts in an excel spreadsheet. Multiple files upload are also accepted. \n",
    "</div>"
   ]
  },
  {
   "cell_type": "code",
   "execution_count": 2,
   "id": "2ad98bd1",
   "metadata": {},
   "outputs": [
    {
     "name": "stdout",
     "output_type": "stream",
     "text": [
      "Currently 4 text documents are loaded for analysis\n"
     ]
    }
   ],
   "source": [
    "# upload the text files and/or excel spreadsheets onto the system\n",
    "display(qt.file_uploader)"
   ]
  },
  {
   "cell_type": "markdown",
   "id": "c700ef8b",
   "metadata": {},
   "source": [
    "Once your files are uploaded, you can see a preview of the text in a table format (pandas dataframe)."
   ]
  },
  {
   "cell_type": "markdown",
   "id": "d36d444a",
   "metadata": {},
   "source": [
    "<div class=\"alert alert-block alert-info\">\n",
    "<b>Tools:</b>    \n",
    "    \n",
    "- nltk: for sentence tokenization\n",
    "- spaCy: for text cleaning and normalisation\n",
    "- pandas: for storing and displaying in dataframe (table) format\n",
    "</div>"
   ]
  },
  {
   "cell_type": "code",
   "execution_count": 3,
   "id": "8d35f71c",
   "metadata": {},
   "outputs": [
    {
     "data": {
      "text/html": [
       "<div>\n",
       "<style scoped>\n",
       "    .dataframe tbody tr th:only-of-type {\n",
       "        vertical-align: middle;\n",
       "    }\n",
       "\n",
       "    .dataframe tbody tr th {\n",
       "        vertical-align: top;\n",
       "    }\n",
       "\n",
       "    .dataframe thead th {\n",
       "        text-align: right;\n",
       "    }\n",
       "</style>\n",
       "<table border=\"1\" class=\"dataframe\">\n",
       "  <thead>\n",
       "    <tr style=\"text-align: right;\">\n",
       "      <th></th>\n",
       "      <th>text_name</th>\n",
       "      <th>text</th>\n",
       "      <th>text_id</th>\n",
       "      <th>spacy_text</th>\n",
       "    </tr>\n",
       "  </thead>\n",
       "  <tbody>\n",
       "    <tr>\n",
       "      <th>0</th>\n",
       "      <td>text1</td>\n",
       "      <td>Facebook and Instagram, which Facebook owns, f...</td>\n",
       "      <td>fa629d3c6eca09ff631cee60c1636657</td>\n",
       "      <td>(Facebook, and, Instagram, ,, which, Facebook,...</td>\n",
       "    </tr>\n",
       "    <tr>\n",
       "      <th>1</th>\n",
       "      <td>text2</td>\n",
       "      <td>(CBC News)\\nRepublican lawmakers and previous ...</td>\n",
       "      <td>0ffd917f3646c7b9b697a871e8177bf3</td>\n",
       "      <td>((, CBC, News, ), ., \\n , Republican, lawmaker...</td>\n",
       "    </tr>\n",
       "    <tr>\n",
       "      <th>2</th>\n",
       "      <td>text3</td>\n",
       "      <td>Federated States of Micronesia President David...</td>\n",
       "      <td>1dcf3eff30c12de4aa90c833fca6d280</td>\n",
       "      <td>(Federated, States, of, Micronesia, President,...</td>\n",
       "    </tr>\n",
       "    <tr>\n",
       "      <th>3</th>\n",
       "      <td>text4</td>\n",
       "      <td>Chinese state media has launched its strongest...</td>\n",
       "      <td>22e14cd8db835aabba31de096b95fc75</td>\n",
       "      <td>(Chinese, state, media, has, launched, its, st...</td>\n",
       "    </tr>\n",
       "  </tbody>\n",
       "</table>\n",
       "</div>"
      ],
      "text/plain": [
       "  text_name                                               text  \\\n",
       "0     text1  Facebook and Instagram, which Facebook owns, f...   \n",
       "1     text2  (CBC News)\\nRepublican lawmakers and previous ...   \n",
       "2     text3  Federated States of Micronesia President David...   \n",
       "3     text4  Chinese state media has launched its strongest...   \n",
       "\n",
       "                            text_id  \\\n",
       "0  fa629d3c6eca09ff631cee60c1636657   \n",
       "1  0ffd917f3646c7b9b697a871e8177bf3   \n",
       "2  1dcf3eff30c12de4aa90c833fca6d280   \n",
       "3  22e14cd8db835aabba31de096b95fc75   \n",
       "\n",
       "                                          spacy_text  \n",
       "0  (Facebook, and, Instagram, ,, which, Facebook,...  \n",
       "1  ((, CBC, News, ), ., \\n , Republican, lawmaker...  \n",
       "2  (Federated, States, of, Micronesia, President,...  \n",
       "3  (Chinese, state, media, has, launched, its, st...  "
      ]
     },
     "execution_count": 3,
     "metadata": {},
     "output_type": "execute_result"
    }
   ],
   "source": [
    "# display a preview of the pandas dataframe\n",
    "qt.text_df.head()"
   ]
  },
  {
   "cell_type": "markdown",
   "id": "4039347d",
   "metadata": {},
   "source": [
    "## 3. Extract the quotes\n",
    "Once your texts have been stored in a pandas dataframe, you can begin to extract the quotes from the texts. You can also extract named entities from your text by setting the named entities you wish to include in the below *inc_ent* variable."
   ]
  },
  {
   "cell_type": "markdown",
   "id": "db860905",
   "metadata": {},
   "source": [
    "<div class=\"alert alert-block alert-info\">\n",
    "<b>Tools:</b>    \n",
    "\n",
    "- quote_extractor: for extracting quotes and speakers\n",
    "- spaCy: for extracting named entities\n",
    "</div>"
   ]
  },
  {
   "cell_type": "code",
   "execution_count": 4,
   "id": "9ab19f7a",
   "metadata": {},
   "outputs": [
    {
     "data": {
      "text/html": [
       "<div>\n",
       "<style scoped>\n",
       "    .dataframe tbody tr th:only-of-type {\n",
       "        vertical-align: middle;\n",
       "    }\n",
       "\n",
       "    .dataframe tbody tr th {\n",
       "        vertical-align: top;\n",
       "    }\n",
       "\n",
       "    .dataframe thead th {\n",
       "        text-align: right;\n",
       "    }\n",
       "</style>\n",
       "<table border=\"1\" class=\"dataframe\">\n",
       "  <thead>\n",
       "    <tr style=\"text-align: right;\">\n",
       "      <th></th>\n",
       "      <th>text_id</th>\n",
       "      <th>text_name</th>\n",
       "      <th>quote_id</th>\n",
       "      <th>quote</th>\n",
       "      <th>quote_index</th>\n",
       "      <th>quote_entities</th>\n",
       "      <th>speaker</th>\n",
       "      <th>speaker_index</th>\n",
       "      <th>speaker_entities</th>\n",
       "      <th>verb</th>\n",
       "      <th>verb_index</th>\n",
       "      <th>quote_token_count</th>\n",
       "      <th>quote_type</th>\n",
       "      <th>is_floating_quote</th>\n",
       "    </tr>\n",
       "  </thead>\n",
       "  <tbody>\n",
       "    <tr>\n",
       "      <th>0</th>\n",
       "      <td>fa629d3c6eca09ff631cee60c1636657</td>\n",
       "      <td>text1</td>\n",
       "      <td>0</td>\n",
       "      <td>that Trump wouldn't be able to post for 24 hou...</td>\n",
       "      <td>(84, 173)</td>\n",
       "      <td>[(Trump, PERSON), (Trump, ORG)]</td>\n",
       "      <td>Facebook and Instagram, which Facebook owns,</td>\n",
       "      <td>(0, 44)</td>\n",
       "      <td>[(Instagram, ORG), (Facebook, ORG)]</td>\n",
       "      <td>announcing</td>\n",
       "      <td>(73, 83)</td>\n",
       "      <td>17</td>\n",
       "      <td>SVC</td>\n",
       "      <td>False</td>\n",
       "    </tr>\n",
       "    <tr>\n",
       "      <th>1</th>\n",
       "      <td>fa629d3c6eca09ff631cee60c1636657</td>\n",
       "      <td>text1</td>\n",
       "      <td>1</td>\n",
       "      <td>that these actions follow years of hemming and...</td>\n",
       "      <td>(302, 489)</td>\n",
       "      <td>[(Trump, PERSON), (Trump, ORG)]</td>\n",
       "      <td>experts</td>\n",
       "      <td>(288, 295)</td>\n",
       "      <td>[]</td>\n",
       "      <td>noted</td>\n",
       "      <td>(296, 301)</td>\n",
       "      <td>26</td>\n",
       "      <td>SVC</td>\n",
       "      <td>False</td>\n",
       "    </tr>\n",
       "    <tr>\n",
       "      <th>2</th>\n",
       "      <td>fa629d3c6eca09ff631cee60c1636657</td>\n",
       "      <td>text1</td>\n",
       "      <td>2</td>\n",
       "      <td>what happened in Washington, D.C., on Wednesda...</td>\n",
       "      <td>(592, 813)</td>\n",
       "      <td>[(Washington, GPE), (D.C., GPE), (Trump, PERSO...</td>\n",
       "      <td>Jennifer Grygiel, a Syracuse University commun...</td>\n",
       "      <td>(491, 586)</td>\n",
       "      <td>[(Grygiel, PERSON), (Syracuse University, ORG)...</td>\n",
       "      <td>said</td>\n",
       "      <td>(587, 591)</td>\n",
       "      <td>38</td>\n",
       "      <td>SVC</td>\n",
       "      <td>False</td>\n",
       "    </tr>\n",
       "    <tr>\n",
       "      <th>3</th>\n",
       "      <td>fa629d3c6eca09ff631cee60c1636657</td>\n",
       "      <td>text1</td>\n",
       "      <td>3</td>\n",
       "      <td>\\n \"This is what happens</td>\n",
       "      <td>(1012, 1035)</td>\n",
       "      <td>[]</td>\n",
       "      <td>Grygiel</td>\n",
       "      <td>(1038, 1045)</td>\n",
       "      <td>[(Grygiel, PERSON)]</td>\n",
       "      <td>said</td>\n",
       "      <td>(1046, 1050)</td>\n",
       "      <td>6</td>\n",
       "      <td>CSV</td>\n",
       "      <td>False</td>\n",
       "    </tr>\n",
       "    <tr>\n",
       "      <th>4</th>\n",
       "      <td>fa629d3c6eca09ff631cee60c1636657</td>\n",
       "      <td>text1</td>\n",
       "      <td>4</td>\n",
       "      <td>They're creeping along towards firmer action</td>\n",
       "      <td>(1352, 1396)</td>\n",
       "      <td>[]</td>\n",
       "      <td>Grygiel</td>\n",
       "      <td>(1399, 1406)</td>\n",
       "      <td>[(Grygiel, PERSON)]</td>\n",
       "      <td>said</td>\n",
       "      <td>(1407, 1411)</td>\n",
       "      <td>7</td>\n",
       "      <td>QCQSV</td>\n",
       "      <td>False</td>\n",
       "    </tr>\n",
       "  </tbody>\n",
       "</table>\n",
       "</div>"
      ],
      "text/plain": [
       "                            text_id text_name quote_id  \\\n",
       "0  fa629d3c6eca09ff631cee60c1636657     text1        0   \n",
       "1  fa629d3c6eca09ff631cee60c1636657     text1        1   \n",
       "2  fa629d3c6eca09ff631cee60c1636657     text1        2   \n",
       "3  fa629d3c6eca09ff631cee60c1636657     text1        3   \n",
       "4  fa629d3c6eca09ff631cee60c1636657     text1        4   \n",
       "\n",
       "                                               quote   quote_index  \\\n",
       "0  that Trump wouldn't be able to post for 24 hou...     (84, 173)   \n",
       "1  that these actions follow years of hemming and...    (302, 489)   \n",
       "2  what happened in Washington, D.C., on Wednesda...    (592, 813)   \n",
       "3                           \\n \"This is what happens  (1012, 1035)   \n",
       "4       They're creeping along towards firmer action  (1352, 1396)   \n",
       "\n",
       "                                      quote_entities  \\\n",
       "0                    [(Trump, PERSON), (Trump, ORG)]   \n",
       "1                    [(Trump, PERSON), (Trump, ORG)]   \n",
       "2  [(Washington, GPE), (D.C., GPE), (Trump, PERSO...   \n",
       "3                                                 []   \n",
       "4                                                 []   \n",
       "\n",
       "                                             speaker speaker_index  \\\n",
       "0       Facebook and Instagram, which Facebook owns,       (0, 44)   \n",
       "1                                            experts    (288, 295)   \n",
       "2  Jennifer Grygiel, a Syracuse University commun...    (491, 586)   \n",
       "3                                            Grygiel  (1038, 1045)   \n",
       "4                                            Grygiel  (1399, 1406)   \n",
       "\n",
       "                                    speaker_entities        verb  \\\n",
       "0                [(Instagram, ORG), (Facebook, ORG)]  announcing   \n",
       "1                                                 []       noted   \n",
       "2  [(Grygiel, PERSON), (Syracuse University, ORG)...        said   \n",
       "3                                [(Grygiel, PERSON)]        said   \n",
       "4                                [(Grygiel, PERSON)]        said   \n",
       "\n",
       "     verb_index  quote_token_count quote_type  is_floating_quote  \n",
       "0      (73, 83)                 17        SVC              False  \n",
       "1    (296, 301)                 26        SVC              False  \n",
       "2    (587, 591)                 38        SVC              False  \n",
       "3  (1046, 1050)                  6        CSV              False  \n",
       "4  (1407, 1411)                  7      QCQSV              False  "
      ]
     },
     "execution_count": 4,
     "metadata": {},
     "output_type": "execute_result"
    }
   ],
   "source": [
    "# specify the named entities that you wish to include in the below\n",
    "inc_ent = ['ORG','PERSON','GPE','NORP','FAC','LOC']\n",
    "\n",
    "# extract the quotes from the text and preview them in a table format\n",
    "quotes_df = qt.get_quotes(inc_ent)\n",
    "quotes_df.head()"
   ]
  },
  {
   "cell_type": "markdown",
   "id": "079bc8a7",
   "metadata": {},
   "source": [
    "In general, the quotes are extracted either based on syntactic rules or heuristic rules. Some quotes can be stand-alone in a sentence, or followed by another quote (floating quote) in the same sentence.   \n",
    "\n",
    "**Quotation symbols:** *Q (Quotation mark), S (Speaker), V (Verb), C (Content)*  \n",
    "\n",
    "**Named Entities:**  *PERSON (People, including fictional), NORP (Nationalities or religious or political groups), FAC (Buildings, airports, highways, bridges, etc.), ORG (Companies, agencies, institutions, etc.), GPE (Countries, cities, states), LOC (Non-GPE locations, mountain ranges, bodies of water)*"
   ]
  },
  {
   "cell_type": "markdown",
   "id": "70be6223",
   "metadata": {},
   "source": [
    "## 4. Display the quotes\n",
    "Once you have extracted the quotes, you can see a preview of the quotes using spaCy's visualisation tool, displaCy. All you need to do is run the below code and select the text you wish to analyse and what entities to show. \n",
    "\n",
    "Click the ***Preview*** button to display the quotes, the ***Save Preview*** button to save them as an html file, and the ***Top 5 Entitites*** button to display the top five Named Entities mentioned in the speakers and/or quotes."
   ]
  },
  {
   "cell_type": "markdown",
   "id": "2e556ab0",
   "metadata": {},
   "source": [
    "<div class=\"alert alert-block alert-info\">\n",
    "<b>Tools:</b>    \n",
    "\n",
    "- displaCy: for displaying quotes, speakers and named entities\n",
    "- ipywidgets: for interactive tool\n",
    "</div>"
   ]
  },
  {
   "cell_type": "code",
   "execution_count": 5,
   "id": "e536e55b",
   "metadata": {
    "scrolled": false
   },
   "outputs": [
    {
     "data": {
      "application/vnd.jupyter.widget-view+json": {
       "model_id": "ae522c68bb95439cb3542b90d93c5869",
       "version_major": 2,
       "version_minor": 0
      },
      "text/plain": [
       "VBox(children=(HBox(children=(VBox(children=(HTML(value='<b>Select which text to preview:</b>', placeholder=''…"
      ]
     },
     "metadata": {},
     "output_type": "display_data"
    }
   ],
   "source": [
    "box = qt.analyse_quotes(inc_ent)\n",
    "box"
   ]
  },
  {
   "cell_type": "markdown",
   "id": "3607fd4b",
   "metadata": {},
   "source": [
    "## 5. Save the quotes\n",
    "Finally, you can save the quotes pandas dataframe into an Excel spreadsheet and download them to your local computer for further analysis, if you wish."
   ]
  },
  {
   "cell_type": "code",
   "execution_count": null,
   "id": "ec7d0163",
   "metadata": {},
   "outputs": [],
   "source": [
    "# create an output folder if not yet available\n",
    "os.makedirs('output', exist_ok=True)\n",
    "\n",
    "# save quotes_df into an Excel spreadsheet\n",
    "quotes_df.to_excel('./output/quotes.xlsx', index=False)"
   ]
  }
 ],
 "metadata": {
  "celltoolbar": "Raw Cell Format",
  "kernelspec": {
   "display_name": "Python 3 (ipykernel)",
   "language": "python",
   "name": "python3"
  },
  "language_info": {
   "codemirror_mode": {
    "name": "ipython",
    "version": 3
   },
   "file_extension": ".py",
   "mimetype": "text/x-python",
   "name": "python",
   "nbconvert_exporter": "python",
   "pygments_lexer": "ipython3",
   "version": "3.8.13"
  },
  "vscode": {
   "interpreter": {
    "hash": "50e9832c473c86713864f61257029e15f281e1af6f46dd8361ab2dc7ec7915dd"
   }
  }
 },
 "nbformat": 4,
 "nbformat_minor": 5
}
