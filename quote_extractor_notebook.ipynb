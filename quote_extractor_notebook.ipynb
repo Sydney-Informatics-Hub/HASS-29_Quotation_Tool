{
 "cells": [
  {
   "cell_type": "markdown",
   "id": "9c2662a3",
   "metadata": {},
   "source": [
    "# QuotationTool\n",
    "In this notebook, you will use the *QuotationTool* to extract quotes from a list of texts. In addition to extracting the quotes, the tool also provides information about who the speakers are, the location of the quotes (and the speakers) within the text, the identified named entities, etc., which can be useful for your text analysis.  \n",
    "\n",
    "**Note:** This code has been adapted (with permission) from the [GenderGapTracker GitHub page](https://github.com/sfu-discourse-lab/GenderGapTracker/tree/master/NLP/main) and modified to run on a Jupyter Notebook. The quotation tool’s accuracy rate is evaluated in [this article](https://doi.org/10.1371/journal.pone.0245533).\n",
    "\n",
    "<div class=\"alert alert-block alert-warning\">\n",
    "<b>User guide to using a Jupyter Notebook</b> \n",
    "\n",
    "If you are new to Jupyter Notebook, feel free to take a quick look at [this user guide](https://github.com/Sydney-Informatics-Hub/HASS-29_Quotation_Tool/blob/main/documents/jupyter-notebook-guide.pdf) for basic information on how to use a notebook.\n",
    "</div>"
   ]
  },
  {
   "cell_type": "markdown",
   "id": "dc99ca86",
   "metadata": {},
   "source": [
    "## 1. Setup\n",
    "Before you begin, you need to import the QuotationTool and the necessary libraries and initiate them to run in this notebook."
   ]
  },
  {
   "cell_type": "code",
   "execution_count": 1,
   "id": "e6720419",
   "metadata": {},
   "outputs": [
    {
     "name": "stderr",
     "output_type": "stream",
     "text": [
      "[nltk_data] Downloading package punkt to /Users/sjuf9909/nltk_data...\n",
      "[nltk_data]   Package punkt is already up-to-date!\n",
      "fatal: destination path 'GenderGapTracker' already exists and is not an empty directory.\n"
     ]
    },
    {
     "name": "stdout",
     "output_type": "stream",
     "text": [
      "Loading spaCy language model...\n",
      "This may take a while...\n",
      "Finished loading.\n"
     ]
    }
   ],
   "source": [
    "# import the QuotationTool\n",
    "from extract_display_quotes import QuotationTool, DownloadFileLink\n",
    "\n",
    "# initialize the QuotationTool\n",
    "qt = QuotationTool()"
   ]
  },
  {
   "cell_type": "markdown",
   "id": "a0a9cb8a",
   "metadata": {},
   "source": [
    "<div class=\"alert alert-block alert-warning\">\n",
    "<b>Installing Libraries</b> \n",
    "\n",
    "The requirements file <b>environment.yml</b> is included with this notebook. Take a look inside to find out what libraries you have just installed with the above command.\n",
    "\n",
    "</div>"
   ]
  },
  {
   "cell_type": "markdown",
   "id": "7cf517c9",
   "metadata": {},
   "source": [
    "## 2. Load the data\n",
    "This notebook will allow you to extract quotes directly from a text file (or a number of text files). Alternatively, you can also extract quotes from a text column inside your excel spreadsheet ([see an example here](https://github.com/Sydney-Informatics-Hub/HASS-29_Quotation_Tool/blob/main/documents/sample_texts.xlsx)).  \n",
    "\n",
    "<table style='margin-left: 10px'><tr>\n",
    "<td> <img src='./img/txt_icon.png' style='width: 45px'/> </td>\n",
    "<td> <img src='./img/xlsx_icon.png' style='width: 55px'/> </td>\n",
    "<td> <img src='./img/csv_icon.png' style='width: 45px'/> </td>\n",
    "<td> <img src='./img/zip_icon.png' style='width: 45px'/> </td>\n",
    "</tr></table>\n",
    "\n",
    "<div class=\"alert alert-block alert-warning\">\n",
    "<b>Uploading your text files</b> \n",
    "    \n",
    "If you have a large number of text files (more than 10MB in total), we suggest you compress (zip) them and upload the zip file instead. If you need assistance on how to compress your file, please check [the user guide](https://github.com/Sydney-Informatics-Hub/HASS-29_Quotation_Tool/blob/main/documents/jupyter-notebook-guide.pdf) for more info. \n",
    "</div>\n",
    "\n",
    "<div class=\"alert alert-block alert-danger\">\n",
    "<b>Large file upload</b> \n",
    "    \n",
    "If you have ongoing issues with the file upload, please re-launch the notebook via Binder again. If the issue persists, consider restarting your computer.\n",
    "</div>\n",
    "\n"
   ]
  },
  {
   "cell_type": "code",
   "execution_count": 2,
   "id": "2ad98bd1",
   "metadata": {},
   "outputs": [
    {
     "name": "stdout",
     "output_type": "stream",
     "text": [
      "Uploading large files may take a while. Please be patient.\n"
     ]
    },
    {
     "data": {
      "application/vnd.jupyter.widget-view+json": {
       "model_id": "b95a144c216d4a9e98fe95c1cb98046d",
       "version_major": 2,
       "version_minor": 0
      },
      "text/plain": [
       "VBox(children=(FileUpload(value={}, accept='.txt, .xlsx, .csv, .zip', description='Upload your files (txt, csv…"
      ]
     },
     "metadata": {},
     "output_type": "display_data"
    }
   ],
   "source": [
    "# upload the text files and/or excel spreadsheets onto the system\n",
    "print('Uploading large files may take a while. Please be patient.')\n",
    "display(qt.upload_box)"
   ]
  },
  {
   "cell_type": "markdown",
   "id": "c700ef8b",
   "metadata": {},
   "source": [
    "Once your files are uploaded, you can see a preview of the text in a table format (pandas dataframe).  \n",
    "\n",
    "<div class=\"alert alert-block alert-info\">\n",
    "<b>Tools:</b>    \n",
    "    \n",
    "- nltk: for sentence tokenization\n",
    "- spaCy: for text cleaning and normalisation\n",
    "- pandas: for storing and displaying in dataframe (table) format\n",
    "</div>\n",
    "\n",
    "<div class=\"alert alert-block alert-warning\">\n",
    "<b>Specify the number of rows to display</b> \n",
    "    \n",
    "By default, you will preview the first 5 rows of the extracted quotes in a pandas dataframe (table) format. However, you can preview more or less rows by specifying the number of rows you wish to display in the variable 'n' below. \n",
    "</div>"
   ]
  },
  {
   "cell_type": "code",
   "execution_count": 3,
   "id": "8d35f71c",
   "metadata": {},
   "outputs": [
    {
     "data": {
      "text/html": [
       "<div>\n",
       "<style scoped>\n",
       "    .dataframe tbody tr th:only-of-type {\n",
       "        vertical-align: middle;\n",
       "    }\n",
       "\n",
       "    .dataframe tbody tr th {\n",
       "        vertical-align: top;\n",
       "    }\n",
       "\n",
       "    .dataframe thead th {\n",
       "        text-align: right;\n",
       "    }\n",
       "</style>\n",
       "<table border=\"1\" class=\"dataframe\">\n",
       "  <thead>\n",
       "    <tr style=\"text-align: right;\">\n",
       "      <th></th>\n",
       "      <th>text_name</th>\n",
       "      <th>text</th>\n",
       "      <th>text_id</th>\n",
       "    </tr>\n",
       "  </thead>\n",
       "  <tbody>\n",
       "    <tr>\n",
       "      <th>0</th>\n",
       "      <td>2000-02-17_Herald Sun (Melbourne, Australia)_T...</td>\n",
       "      <td>LIZ Wielgosz gives thanks every day she did no...</td>\n",
       "      <td>9e6c856358badbad58b286dbfdd57f67</td>\n",
       "    </tr>\n",
       "    <tr>\n",
       "      <th>1</th>\n",
       "      <td>2000-02-07_Herald Sun (Melbourne, Australia)_H...</td>\n",
       "      <td>hot  spots\\nHEALTH authorities expect thousand...</td>\n",
       "      <td>2c275b80112de2b4c389c0f403aaf32b</td>\n",
       "    </tr>\n",
       "    <tr>\n",
       "      <th>2</th>\n",
       "      <td>2000-02-21_The Australian_No longer a case to ...</td>\n",
       "      <td>Catholic school funding needs a shake-up, for ...</td>\n",
       "      <td>a21082e2dec42bd2783b2dc6f4670126</td>\n",
       "    </tr>\n",
       "    <tr>\n",
       "      <th>3</th>\n",
       "      <td>2000-02-15_The Australian_W3C disability rules...</td>\n",
       "      <td>ACCESSING the Internet is likely to become eas...</td>\n",
       "      <td>6051e412b491b43ee06c13bc35d3900b</td>\n",
       "    </tr>\n",
       "    <tr>\n",
       "      <th>4</th>\n",
       "      <td>2000-02-18_The Australian_Farm deaths put on h...</td>\n",
       "      <td>FAR too often obituaries in farming newspapers...</td>\n",
       "      <td>85708a144635033c1a7f50b3f5806c92</td>\n",
       "    </tr>\n",
       "  </tbody>\n",
       "</table>\n",
       "</div>"
      ],
      "text/plain": [
       "                                           text_name  \\\n",
       "0  2000-02-17_Herald Sun (Melbourne, Australia)_T...   \n",
       "1  2000-02-07_Herald Sun (Melbourne, Australia)_H...   \n",
       "2  2000-02-21_The Australian_No longer a case to ...   \n",
       "3  2000-02-15_The Australian_W3C disability rules...   \n",
       "4  2000-02-18_The Australian_Farm deaths put on h...   \n",
       "\n",
       "                                                text  \\\n",
       "0  LIZ Wielgosz gives thanks every day she did no...   \n",
       "1  hot  spots\\nHEALTH authorities expect thousand...   \n",
       "2  Catholic school funding needs a shake-up, for ...   \n",
       "3  ACCESSING the Internet is likely to become eas...   \n",
       "4  FAR too often obituaries in farming newspapers...   \n",
       "\n",
       "                            text_id  \n",
       "0  9e6c856358badbad58b286dbfdd57f67  \n",
       "1  2c275b80112de2b4c389c0f403aaf32b  \n",
       "2  a21082e2dec42bd2783b2dc6f4670126  \n",
       "3  6051e412b491b43ee06c13bc35d3900b  \n",
       "4  85708a144635033c1a7f50b3f5806c92  "
      ]
     },
     "execution_count": 3,
     "metadata": {},
     "output_type": "execute_result"
    }
   ],
   "source": [
    "# specify the number of rows you wish to display\n",
    "n=5\n",
    "\n",
    "# display a preview of the pandas dataframe\n",
    "qt.text_df.head(n)"
   ]
  },
  {
   "cell_type": "markdown",
   "id": "4039347d",
   "metadata": {},
   "source": [
    "## 3. Extract the quotes\n",
    "Once your texts have been stored in a pandas dataframe, you can begin to extract the quotes from the texts. You can also extract named entities from your text by setting the named entities you wish to include in the below *inc_ent* variable.  \n",
    "\n",
    "<div class=\"alert alert-block alert-info\">\n",
    "<b>Tools:</b>    \n",
    "\n",
    "- quote_extractor: for extracting quotes and speakers\n",
    "- spaCy: for extracting named entities\n",
    "</div>\n",
    "\n",
    "<div class=\"alert alert-block alert-warning\">\n",
    "<b>Specify the number of rows to display</b> \n",
    "    \n",
    "By default, you will preview the first 5 rows of the extracted quotes in a pandas dataframe (table) format. However, you can preview more or less rows by specifying the number of rows you wish to display in the variable 'n' below. \n",
    "</div>\n",
    "\n",
    "<div class=\"alert alert-block alert-danger\">\n",
    "<b>Memory limitation in Binder</b> \n",
    "    \n",
    "The free Binder deployment is only guaranteed a maximum of 2GB memory. Processing very large text files may cause the session (kernel) to re-start due to insufficient memory. Check [the user guide](https://github.com/Sydney-Informatics-Hub/HASS-29_Quotation_Tool/blob/main/documents/jupyter-notebook-guide.pdf) for more info. \n",
    "</div>"
   ]
  },
  {
   "cell_type": "code",
   "execution_count": 4,
   "id": "9ab19f7a",
   "metadata": {},
   "outputs": [
    {
     "name": "stdout",
     "output_type": "stream",
     "text": [
      "Extracting quotes...\n",
      "This may take a while...\n"
     ]
    },
    {
     "name": "stderr",
     "output_type": "stream",
     "text": [
      "100%|███████████████████████████████████████████| 53/53 [00:05<00:00,  9.14it/s]\n"
     ]
    },
    {
     "data": {
      "text/html": [
       "<div>\n",
       "<style scoped>\n",
       "    .dataframe tbody tr th:only-of-type {\n",
       "        vertical-align: middle;\n",
       "    }\n",
       "\n",
       "    .dataframe tbody tr th {\n",
       "        vertical-align: top;\n",
       "    }\n",
       "\n",
       "    .dataframe thead th {\n",
       "        text-align: right;\n",
       "    }\n",
       "</style>\n",
       "<table border=\"1\" class=\"dataframe\">\n",
       "  <thead>\n",
       "    <tr style=\"text-align: right;\">\n",
       "      <th></th>\n",
       "      <th>text_id</th>\n",
       "      <th>text_name</th>\n",
       "      <th>quote_id</th>\n",
       "      <th>quote</th>\n",
       "      <th>quote_index</th>\n",
       "      <th>quote_entities</th>\n",
       "      <th>speaker</th>\n",
       "      <th>speaker_index</th>\n",
       "      <th>speaker_entities</th>\n",
       "      <th>verb</th>\n",
       "      <th>verb_index</th>\n",
       "      <th>quote_token_count</th>\n",
       "      <th>quote_type</th>\n",
       "      <th>is_floating_quote</th>\n",
       "    </tr>\n",
       "  </thead>\n",
       "  <tbody>\n",
       "    <tr>\n",
       "      <th>0</th>\n",
       "      <td>9e6c856358badbad58b286dbfdd57f67</td>\n",
       "      <td>2000-02-17_Herald Sun (Melbourne, Australia)_T...</td>\n",
       "      <td>0</td>\n",
       "      <td>I would never, ever give him up</td>\n",
       "      <td>(233, 264)</td>\n",
       "      <td>[]</td>\n",
       "      <td>Ms Wielgosz</td>\n",
       "      <td>(267, 278)</td>\n",
       "      <td>[(Ms Wielgosz, PERSON)]</td>\n",
       "      <td>said</td>\n",
       "      <td>(279, 283)</td>\n",
       "      <td>8</td>\n",
       "      <td>QCQSV</td>\n",
       "      <td>False</td>\n",
       "    </tr>\n",
       "    <tr>\n",
       "      <th>1</th>\n",
       "      <td>9e6c856358badbad58b286dbfdd57f67</td>\n",
       "      <td>2000-02-17_Herald Sun (Melbourne, Australia)_T...</td>\n",
       "      <td>1</td>\n",
       "      <td>\"It will let people make the decision and with...</td>\n",
       "      <td>(693, 808)</td>\n",
       "      <td>[]</td>\n",
       "      <td>she</td>\n",
       "      <td>(811, 814)</td>\n",
       "      <td>[]</td>\n",
       "      <td>said</td>\n",
       "      <td>(815, 819)</td>\n",
       "      <td>23</td>\n",
       "      <td>QCQSV</td>\n",
       "      <td>False</td>\n",
       "    </tr>\n",
       "    <tr>\n",
       "      <th>2</th>\n",
       "      <td>9e6c856358badbad58b286dbfdd57f67</td>\n",
       "      <td>2000-02-17_Herald Sun (Melbourne, Australia)_T...</td>\n",
       "      <td>2</td>\n",
       "      <td>Oh my God, I'm having a disabled child</td>\n",
       "      <td>(1045, 1083)</td>\n",
       "      <td>[]</td>\n",
       "      <td>they</td>\n",
       "      <td>(1034, 1038)</td>\n",
       "      <td>[]</td>\n",
       "      <td>say</td>\n",
       "      <td>(1039, 1042)</td>\n",
       "      <td>10</td>\n",
       "      <td>SVC</td>\n",
       "      <td>False</td>\n",
       "    </tr>\n",
       "    <tr>\n",
       "      <th>3</th>\n",
       "      <td>9e6c856358badbad58b286dbfdd57f67</td>\n",
       "      <td>2000-02-17_Herald Sun (Melbourne, Australia)_T...</td>\n",
       "      <td>3</td>\n",
       "      <td>But if people wanted to test for chromosome ab...</td>\n",
       "      <td>(1111, 1201)</td>\n",
       "      <td>[]</td>\n",
       "      <td>Ms Wielgosz</td>\n",
       "      <td>(1203, 1214)</td>\n",
       "      <td>[(Ms Wielgosz, PERSON)]</td>\n",
       "      <td>said</td>\n",
       "      <td>(1215, 1219)</td>\n",
       "      <td>15</td>\n",
       "      <td>CSV</td>\n",
       "      <td>False</td>\n",
       "    </tr>\n",
       "    <tr>\n",
       "      <th>4</th>\n",
       "      <td>9e6c856358badbad58b286dbfdd57f67</td>\n",
       "      <td>2000-02-17_Herald Sun (Melbourne, Australia)_T...</td>\n",
       "      <td>4</td>\n",
       "      <td>Our children can do anything if they are just ...</td>\n",
       "      <td>(1281, 1341)</td>\n",
       "      <td>[]</td>\n",
       "      <td>she</td>\n",
       "      <td>(1344, 1347)</td>\n",
       "      <td>[]</td>\n",
       "      <td>said</td>\n",
       "      <td>(1348, 1352)</td>\n",
       "      <td>12</td>\n",
       "      <td>CSV</td>\n",
       "      <td>False</td>\n",
       "    </tr>\n",
       "  </tbody>\n",
       "</table>\n",
       "</div>"
      ],
      "text/plain": [
       "                            text_id  \\\n",
       "0  9e6c856358badbad58b286dbfdd57f67   \n",
       "1  9e6c856358badbad58b286dbfdd57f67   \n",
       "2  9e6c856358badbad58b286dbfdd57f67   \n",
       "3  9e6c856358badbad58b286dbfdd57f67   \n",
       "4  9e6c856358badbad58b286dbfdd57f67   \n",
       "\n",
       "                                           text_name quote_id  \\\n",
       "0  2000-02-17_Herald Sun (Melbourne, Australia)_T...        0   \n",
       "1  2000-02-17_Herald Sun (Melbourne, Australia)_T...        1   \n",
       "2  2000-02-17_Herald Sun (Melbourne, Australia)_T...        2   \n",
       "3  2000-02-17_Herald Sun (Melbourne, Australia)_T...        3   \n",
       "4  2000-02-17_Herald Sun (Melbourne, Australia)_T...        4   \n",
       "\n",
       "                                               quote   quote_index  \\\n",
       "0                    I would never, ever give him up    (233, 264)   \n",
       "1  \"It will let people make the decision and with...    (693, 808)   \n",
       "2             Oh my God, I'm having a disabled child  (1045, 1083)   \n",
       "3  But if people wanted to test for chromosome ab...  (1111, 1201)   \n",
       "4  Our children can do anything if they are just ...  (1281, 1341)   \n",
       "\n",
       "  quote_entities      speaker speaker_index         speaker_entities  verb  \\\n",
       "0             []  Ms Wielgosz    (267, 278)  [(Ms Wielgosz, PERSON)]  said   \n",
       "1             []          she    (811, 814)                       []  said   \n",
       "2             []         they  (1034, 1038)                       []   say   \n",
       "3             []  Ms Wielgosz  (1203, 1214)  [(Ms Wielgosz, PERSON)]  said   \n",
       "4             []          she  (1344, 1347)                       []  said   \n",
       "\n",
       "     verb_index  quote_token_count quote_type  is_floating_quote  \n",
       "0    (279, 283)                  8      QCQSV              False  \n",
       "1    (815, 819)                 23      QCQSV              False  \n",
       "2  (1039, 1042)                 10        SVC              False  \n",
       "3  (1215, 1219)                 15        CSV              False  \n",
       "4  (1348, 1352)                 12        CSV              False  "
      ]
     },
     "execution_count": 4,
     "metadata": {},
     "output_type": "execute_result"
    }
   ],
   "source": [
    "# specify the named entities you wish to include below\n",
    "inc_ent = ['ORG','PERSON','GPE','NORP','FAC','LOC']\n",
    "\n",
    "# specify the number of rows you wish to display\n",
    "n=5\n",
    "\n",
    "# extract quotes from the text and preview them in a pandas dataframe (table) format\n",
    "quotes_df = qt.get_quotes(inc_ent)\n",
    "\n",
    "# display a preview of the pandas dataframe\n",
    "quotes_df.head(n)"
   ]
  },
  {
   "cell_type": "markdown",
   "id": "079bc8a7",
   "metadata": {},
   "source": [
    "<div class=\"alert alert-block alert-warning\">\n",
    "<b>What information is included in the above table?</b> \n",
    "\n",
    "In general, the quotes are extracted either based on syntactic or heuristic rules. Some quotes can be stand-alone in a sentence, or followed by another quote (floating quote) from the same speaker. Please refer to [this document](https://doi.org/10.1371/journal.pone.0245533.s001) for further information about the quote extraction process.  \n",
    "    \n",
    "**text_id:** the unique ID of the text.\n",
    "    \n",
    "**text_name** the name of the text, i.e., the name of the .txt files or the 'text_name' column in the excel spreadsheet.\n",
    "    \n",
    "**quote_id/speaker_id:** the unique ID of the extracted quote/speaker.\n",
    "    \n",
    "**quote/speaker:** the content of the extracted quote and the speaker.\n",
    "    \n",
    "**verb:** the verb used to determine the extracted quote.\n",
    "    \n",
    "**quote_index/speaker_index/verb_index:** the location of the first and the last characters of the extracted quote/speaker/verb in the text.\n",
    "    \n",
    "**quote_entities/speaker_entities:** the entity name and type of the entities identified in the extracted quote/speaker.\n",
    "    \n",
    "**quote_token_count:** the length of the extracted quote (in character).\n",
    "    \n",
    "**quote_type:** the type of quote based on how it is extracted.\n",
    "    \n",
    "**floating_quote:** whether the extracted quote is a floating quote, i.e., a follow up quote from the same speaker.\n",
    "\n",
    "**Quotation symbols:** Q (Quotation mark), S (Speaker), V (Verb), C (Content).  \n",
    "\n",
    "**Named Entities:**  PERSON (People, including fictional), NORP (Nationalities or religious or political groups), FAC (Buildings, airports, highways, etc.), ORG (Companies, agencies, institutions, etc.), GPE (Countries, cities, states), LOC (Non-GPE locations, mountain ranges, bodies of water).\n",
    "</div>"
   ]
  },
  {
   "cell_type": "markdown",
   "id": "70be6223",
   "metadata": {},
   "source": [
    "## 4. Display the quotes\n",
    "Once you have extracted the quotes, you can see a preview of the quotes using spaCy's visualisation tool, displaCy. \n",
    "\n",
    "<div class=\"alert alert-block alert-info\">\n",
    "<b>Tools:</b>    \n",
    "\n",
    "- displaCy: for displaying quotes, speakers and named entities\n",
    "- ipywidgets: for interactive tool\n",
    "</div>\n",
    "\n",
    "<div class=\"alert alert-block alert-danger\">\n",
    "<b>Select the text and the entities to show</b> \n",
    "\n",
    "In order to preview the extracted information, select the text you wish to analyse and which entities to show. Then, you can click the ***Preview*** button to display them and the ***Save Preview*** button to save them as an html file. \n",
    "</div>"
   ]
  },
  {
   "cell_type": "code",
   "execution_count": 5,
   "id": "e536e55b",
   "metadata": {
    "scrolled": false
   },
   "outputs": [
    {
     "data": {
      "application/vnd.jupyter.widget-view+json": {
       "model_id": "a6e7a131d7f74f42bd5e76e5300ff0f0",
       "version_major": 2,
       "version_minor": 0
      },
      "text/plain": [
       "VBox(children=(HBox(children=(VBox(children=(HTML(value='<b>Select which entity to show:</b>', placeholder='')…"
      ]
     },
     "metadata": {},
     "output_type": "display_data"
    }
   ],
   "source": [
    "# display a preview of the extracted quotes, speakers and entities within the text\n",
    "qt.analyse_quotes(inc_ent)"
   ]
  },
  {
   "cell_type": "markdown",
   "id": "4f5f4dc4",
   "metadata": {},
   "source": [
    "<div class=\"alert alert-block alert-danger\">\n",
    "<b>Select the text and the entities to show</b> \n",
    "\n",
    "You can also display the top named entitites identified in the quotes and/or speakers. You just need to select the text to analyse (option to analyse 'all texts' is also available), whether to display the identified entities in the speakers and/or quotes, whether to display the entity names and/or types, the number of top entities to display and finally, click the ***Show Top Entities*** and ***Save Top Entities*** buttons to display and save them, respectively. \n",
    "</div>"
   ]
  },
  {
   "cell_type": "code",
   "execution_count": null,
   "id": "a0a92980",
   "metadata": {},
   "outputs": [],
   "source": [
    "# check the top named entities identified in the quotes and/or speakers\n",
    "qt.analyse_entities(inc_ent)"
   ]
  },
  {
   "cell_type": "markdown",
   "id": "3607fd4b",
   "metadata": {},
   "source": [
    "## 5. Save the quotes\n",
    "Finally, you can run the below code to save the quotes pandas dataframe into an Excel spreadsheet and download them to your local computer.  "
   ]
  },
  {
   "cell_type": "code",
   "execution_count": null,
   "id": "388ca926",
   "metadata": {},
   "outputs": [],
   "source": [
    "# specify output directory and file name\n",
    "output_dir = './output/'\n",
    "file_name = 'quotes.xlsx'\n",
    "\n",
    "# save quotes_df into an Excel spreadsheet\n",
    "from pyexcelerate import Workbook\n",
    "values = [quotes_df.columns] + list(quotes_df.values)\n",
    "wb = Workbook()\n",
    "wb.new_sheet('Sheet1', data=values)\n",
    "wb.save(output_dir + file_name)\n",
    "\n",
    "# download quotes_df to your computer\n",
    "print('Click below to download:')\n",
    "display(DownloadFileLink(output_dir + file_name, 'quotes.xlsx'))"
   ]
  }
 ],
 "metadata": {
  "celltoolbar": "Raw Cell Format",
  "kernelspec": {
   "display_name": "Python 3 (ipykernel)",
   "language": "python",
   "name": "python3"
  },
  "language_info": {
   "codemirror_mode": {
    "name": "ipython",
    "version": 3
   },
   "file_extension": ".py",
   "mimetype": "text/x-python",
   "name": "python",
   "nbconvert_exporter": "python",
   "pygments_lexer": "ipython3",
   "version": "3.8.13"
  },
  "vscode": {
   "interpreter": {
    "hash": "50e9832c473c86713864f61257029e15f281e1af6f46dd8361ab2dc7ec7915dd"
   }
  }
 },
 "nbformat": 4,
 "nbformat_minor": 5
}
