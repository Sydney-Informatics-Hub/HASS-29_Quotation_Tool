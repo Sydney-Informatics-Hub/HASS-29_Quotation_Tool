{
 "cells": [
  {
   "cell_type": "markdown",
   "id": "9c2662a3",
   "metadata": {},
   "source": [
    "# QuotationTool\n",
    "In this notebook, you will use the *QuotationTool* to extract quotes from a list of texts. In addition to extracting the quotes, the tool also provides information about who the speakers are, the location of the quotes (and the speakers) within the text, the identified named entities, etc., which can be useful for your text analysis.  \n",
    "\n",
    "**Note:** This code has been adapted (with permission) from the [GenderGapTracker GitHub page](https://github.com/sfu-discourse-lab/GenderGapTracker/tree/master/NLP/main) and modified to run on a Jupyter Notebook. The quotation tool’s accuracy rate is evaluated in [this article](https://doi.org/10.1371/journal.pone.0245533).\n",
    "\n",
    "<div class=\"alert alert-block alert-warning\">\n",
    "<b>User guide to using a Jupyter Notebook</b> \n",
    "\n",
    "If you are new to Jupyter Notebook, feel free to take a quick look at [this user guide](https://github.com/Sydney-Informatics-Hub/HASS-29_Quotation_Tool/blob/main/documents/jupyter-notebook-guide.pdf) for basic information on how to use a notebook.\n",
    "</div>"
   ]
  },
  {
   "cell_type": "markdown",
   "id": "dc99ca86",
   "metadata": {},
   "source": [
    "## 1. Setup\n",
    "Before you begin, you need to import the QuotationTool and the necessary libraries and initiate them to run in this notebook."
   ]
  },
  {
   "cell_type": "code",
   "execution_count": 1,
   "id": "e6720419",
   "metadata": {},
   "outputs": [
    {
     "name": "stderr",
     "output_type": "stream",
     "text": [
      "[nltk_data] Downloading package punkt to /Users/sjuf9909/nltk_data...\n",
      "[nltk_data]   Package punkt is already up-to-date!\n",
      "fatal: destination path 'GenderGapTracker' already exists and is not an empty directory.\n"
     ]
    },
    {
     "name": "stdout",
     "output_type": "stream",
     "text": [
      "Loading spaCy language model...\n",
      "This may take a while...\n",
      "Finished loading.\n"
     ]
    }
   ],
   "source": [
    "# import the QuotationTool\n",
    "from extract_display_quotes import QuotationTool\n",
    "\n",
    "# initialize the QuotationTool\n",
    "qt = QuotationTool()"
   ]
  },
  {
   "cell_type": "markdown",
   "id": "a0a9cb8a",
   "metadata": {},
   "source": [
    "<div class=\"alert alert-block alert-warning\">\n",
    "<b>Installing Libraries</b> \n",
    "\n",
    "The requirements file <b>environment.yml</b> is included with this notebook. Take a look inside to find out what libraries you have just installed with the above command.\n",
    "\n",
    "</div>"
   ]
  },
  {
   "cell_type": "markdown",
   "id": "7cf517c9",
   "metadata": {},
   "source": [
    "## 2. Load the data\n",
    "This notebook will allow you to extract quotes directly from a text file (or a number of text files). Alternatively, you can also extract quotes from a text column inside your excel spreadsheet.  \n",
    "\n",
    "<table style='margin-left: 10px'><tr>\n",
    "<td> <img src='./img/txt_icon.png' style='width: 45px'/> </td>\n",
    "<td> <img src='./img/xlsx_icon.png' style='width: 55px'/> </td>\n",
    "<td> <img src='./img/csv_icon.png' style='width: 45px'/> </td>\n",
    "</tr></table>\n",
    "\n",
    "<div class=\"alert alert-block alert-danger\">\n",
    "<b>Upload your text files</b> \n",
    "    \n",
    "Please upload your text files (.txt) or your excel spreadsheet (.xlsx or .csv) below. Multiple files upload are also accepted. \n",
    "</div>"
   ]
  },
  {
   "cell_type": "code",
   "execution_count": 2,
   "id": "2ad98bd1",
   "metadata": {},
   "outputs": [
    {
     "data": {
      "application/vnd.jupyter.widget-view+json": {
       "model_id": "76b2233179aa45ec86a5b0394d0b5cb4",
       "version_major": 2,
       "version_minor": 0
      },
      "text/plain": [
       "VBox(children=(FileUpload(value={}, accept='.txt, .xlsx, .csv ', description='Upload your files (txt, csv or x…"
      ]
     },
     "metadata": {},
     "output_type": "display_data"
    }
   ],
   "source": [
    "# upload the text files and/or excel spreadsheets onto the system\n",
    "display(qt.upload_box)"
   ]
  },
  {
   "cell_type": "markdown",
   "id": "c700ef8b",
   "metadata": {},
   "source": [
    "Once your files are uploaded, you can see a preview of the text in a table format (pandas dataframe).  \n",
    "\n",
    "<div class=\"alert alert-block alert-info\">\n",
    "<b>Tools:</b>    \n",
    "    \n",
    "- nltk: for sentence tokenization\n",
    "- spaCy: for text cleaning and normalisation\n",
    "- pandas: for storing and displaying in dataframe (table) format\n",
    "</div>\n",
    "\n",
    "<div class=\"alert alert-block alert-warning\">\n",
    "<b>Specify the number of rows to display</b> \n",
    "    \n",
    "By default, you will preview the first 5 rows of the extracted quotes in a pandas dataframe (table) format. However, you can preview more or less rows by specifying the number of rows you wish to display in the variable 'n' below. \n",
    "</div>"
   ]
  },
  {
   "cell_type": "code",
   "execution_count": 3,
   "id": "8d35f71c",
   "metadata": {},
   "outputs": [
    {
     "data": {
      "text/html": [
       "<div>\n",
       "<style scoped>\n",
       "    .dataframe tbody tr th:only-of-type {\n",
       "        vertical-align: middle;\n",
       "    }\n",
       "\n",
       "    .dataframe tbody tr th {\n",
       "        vertical-align: top;\n",
       "    }\n",
       "\n",
       "    .dataframe thead th {\n",
       "        text-align: right;\n",
       "    }\n",
       "</style>\n",
       "<table border=\"1\" class=\"dataframe\">\n",
       "  <thead>\n",
       "    <tr style=\"text-align: right;\">\n",
       "      <th></th>\n",
       "      <th>text_name</th>\n",
       "      <th>text</th>\n",
       "      <th>text_id</th>\n",
       "      <th>spacy_text</th>\n",
       "    </tr>\n",
       "  </thead>\n",
       "  <tbody>\n",
       "    <tr>\n",
       "      <th>0</th>\n",
       "      <td>text1</td>\n",
       "      <td>Facebook and Instagram, which Facebook owns, f...</td>\n",
       "      <td>fa629d3c6eca09ff631cee60c1636657</td>\n",
       "      <td>(Facebook, and, Instagram, ,, which, Facebook,...</td>\n",
       "    </tr>\n",
       "    <tr>\n",
       "      <th>1</th>\n",
       "      <td>text2</td>\n",
       "      <td>(CBC News)\\nRepublican lawmakers and previous ...</td>\n",
       "      <td>0ffd917f3646c7b9b697a871e8177bf3</td>\n",
       "      <td>((, CBC, News, ), ., \\n , Republican, lawmaker...</td>\n",
       "    </tr>\n",
       "    <tr>\n",
       "      <th>2</th>\n",
       "      <td>text3</td>\n",
       "      <td>Federated States of Micronesia President David...</td>\n",
       "      <td>1dcf3eff30c12de4aa90c833fca6d280</td>\n",
       "      <td>(Federated, States, of, Micronesia, President,...</td>\n",
       "    </tr>\n",
       "    <tr>\n",
       "      <th>3</th>\n",
       "      <td>text4</td>\n",
       "      <td>Chinese state media has launched its strongest...</td>\n",
       "      <td>22e14cd8db835aabba31de096b95fc75</td>\n",
       "      <td>(Chinese, state, media, has, launched, its, st...</td>\n",
       "    </tr>\n",
       "  </tbody>\n",
       "</table>\n",
       "</div>"
      ],
      "text/plain": [
       "  text_name                                               text  \\\n",
       "0     text1  Facebook and Instagram, which Facebook owns, f...   \n",
       "1     text2  (CBC News)\\nRepublican lawmakers and previous ...   \n",
       "2     text3  Federated States of Micronesia President David...   \n",
       "3     text4  Chinese state media has launched its strongest...   \n",
       "\n",
       "                            text_id  \\\n",
       "0  fa629d3c6eca09ff631cee60c1636657   \n",
       "1  0ffd917f3646c7b9b697a871e8177bf3   \n",
       "2  1dcf3eff30c12de4aa90c833fca6d280   \n",
       "3  22e14cd8db835aabba31de096b95fc75   \n",
       "\n",
       "                                          spacy_text  \n",
       "0  (Facebook, and, Instagram, ,, which, Facebook,...  \n",
       "1  ((, CBC, News, ), ., \\n , Republican, lawmaker...  \n",
       "2  (Federated, States, of, Micronesia, President,...  \n",
       "3  (Chinese, state, media, has, launched, its, st...  "
      ]
     },
     "execution_count": 3,
     "metadata": {},
     "output_type": "execute_result"
    }
   ],
   "source": [
    "# specify the number of rows you wish to display\n",
    "n=5\n",
    "\n",
    "# display a preview of the pandas dataframe\n",
    "qt.text_df.head(n)"
   ]
  },
  {
   "cell_type": "markdown",
   "id": "4039347d",
   "metadata": {},
   "source": [
    "## 3. Extract the quotes\n",
    "Once your texts have been stored in a pandas dataframe, you can begin to extract the quotes from the texts. You can also extract named entities from your text by setting the named entities you wish to include in the below *inc_ent* variable.  \n",
    "\n",
    "<div class=\"alert alert-block alert-info\">\n",
    "<b>Tools:</b>    \n",
    "\n",
    "- quote_extractor: for extracting quotes and speakers\n",
    "- spaCy: for extracting named entities\n",
    "</div>\n",
    "\n",
    "<div class=\"alert alert-block alert-warning\">\n",
    "<b>Specify the number of rows to display</b> \n",
    "    \n",
    "By default, you will preview the first 5 rows of the extracted quotes in a pandas dataframe (table) format. However, you can preview more or less rows by specifying the number of rows you wish to display in the variable 'n' below. \n",
    "</div>"
   ]
  },
  {
   "cell_type": "code",
   "execution_count": 4,
   "id": "9ab19f7a",
   "metadata": {},
   "outputs": [
    {
     "data": {
      "text/html": [
       "<div>\n",
       "<style scoped>\n",
       "    .dataframe tbody tr th:only-of-type {\n",
       "        vertical-align: middle;\n",
       "    }\n",
       "\n",
       "    .dataframe tbody tr th {\n",
       "        vertical-align: top;\n",
       "    }\n",
       "\n",
       "    .dataframe thead th {\n",
       "        text-align: right;\n",
       "    }\n",
       "</style>\n",
       "<table border=\"1\" class=\"dataframe\">\n",
       "  <thead>\n",
       "    <tr style=\"text-align: right;\">\n",
       "      <th></th>\n",
       "      <th>text_id</th>\n",
       "      <th>text_name</th>\n",
       "      <th>quote_id</th>\n",
       "      <th>quote</th>\n",
       "      <th>quote_index</th>\n",
       "      <th>quote_entities</th>\n",
       "      <th>speaker</th>\n",
       "      <th>speaker_index</th>\n",
       "      <th>speaker_entities</th>\n",
       "      <th>verb</th>\n",
       "      <th>verb_index</th>\n",
       "      <th>quote_token_count</th>\n",
       "      <th>quote_type</th>\n",
       "      <th>is_floating_quote</th>\n",
       "    </tr>\n",
       "  </thead>\n",
       "  <tbody>\n",
       "    <tr>\n",
       "      <th>0</th>\n",
       "      <td>fa629d3c6eca09ff631cee60c1636657</td>\n",
       "      <td>text1</td>\n",
       "      <td>0</td>\n",
       "      <td>that Trump wouldn't be able to post for 24 hou...</td>\n",
       "      <td>(84, 173)</td>\n",
       "      <td>[(Trump, PERSON), (Trump, ORG)]</td>\n",
       "      <td>Facebook and Instagram, which Facebook owns,</td>\n",
       "      <td>(0, 44)</td>\n",
       "      <td>[(Instagram, ORG), (Facebook, ORG)]</td>\n",
       "      <td>announcing</td>\n",
       "      <td>(73, 83)</td>\n",
       "      <td>17</td>\n",
       "      <td>SVC</td>\n",
       "      <td>False</td>\n",
       "    </tr>\n",
       "    <tr>\n",
       "      <th>1</th>\n",
       "      <td>fa629d3c6eca09ff631cee60c1636657</td>\n",
       "      <td>text1</td>\n",
       "      <td>1</td>\n",
       "      <td>that these actions follow years of hemming and...</td>\n",
       "      <td>(302, 489)</td>\n",
       "      <td>[(Trump, PERSON), (Trump, ORG)]</td>\n",
       "      <td>experts</td>\n",
       "      <td>(288, 295)</td>\n",
       "      <td>[]</td>\n",
       "      <td>noted</td>\n",
       "      <td>(296, 301)</td>\n",
       "      <td>26</td>\n",
       "      <td>SVC</td>\n",
       "      <td>False</td>\n",
       "    </tr>\n",
       "    <tr>\n",
       "      <th>2</th>\n",
       "      <td>fa629d3c6eca09ff631cee60c1636657</td>\n",
       "      <td>text1</td>\n",
       "      <td>2</td>\n",
       "      <td>what happened in Washington, D.C., on Wednesda...</td>\n",
       "      <td>(592, 813)</td>\n",
       "      <td>[(Washington, GPE), (Trump, PERSON), (D.C., GP...</td>\n",
       "      <td>Jennifer Grygiel, a Syracuse University commun...</td>\n",
       "      <td>(491, 586)</td>\n",
       "      <td>[(Syracuse University, ORG), (Grygiel, PERSON)...</td>\n",
       "      <td>said</td>\n",
       "      <td>(587, 591)</td>\n",
       "      <td>38</td>\n",
       "      <td>SVC</td>\n",
       "      <td>False</td>\n",
       "    </tr>\n",
       "    <tr>\n",
       "      <th>3</th>\n",
       "      <td>fa629d3c6eca09ff631cee60c1636657</td>\n",
       "      <td>text1</td>\n",
       "      <td>3</td>\n",
       "      <td>\\n \"This is what happens</td>\n",
       "      <td>(1012, 1035)</td>\n",
       "      <td>[]</td>\n",
       "      <td>Grygiel</td>\n",
       "      <td>(1038, 1045)</td>\n",
       "      <td>[(Grygiel, PERSON)]</td>\n",
       "      <td>said</td>\n",
       "      <td>(1046, 1050)</td>\n",
       "      <td>6</td>\n",
       "      <td>CSV</td>\n",
       "      <td>False</td>\n",
       "    </tr>\n",
       "    <tr>\n",
       "      <th>4</th>\n",
       "      <td>fa629d3c6eca09ff631cee60c1636657</td>\n",
       "      <td>text1</td>\n",
       "      <td>4</td>\n",
       "      <td>They're creeping along towards firmer action</td>\n",
       "      <td>(1352, 1396)</td>\n",
       "      <td>[]</td>\n",
       "      <td>Grygiel</td>\n",
       "      <td>(1399, 1406)</td>\n",
       "      <td>[(Grygiel, PERSON)]</td>\n",
       "      <td>said</td>\n",
       "      <td>(1407, 1411)</td>\n",
       "      <td>7</td>\n",
       "      <td>QCQSV</td>\n",
       "      <td>False</td>\n",
       "    </tr>\n",
       "  </tbody>\n",
       "</table>\n",
       "</div>"
      ],
      "text/plain": [
       "                            text_id text_name quote_id  \\\n",
       "0  fa629d3c6eca09ff631cee60c1636657     text1        0   \n",
       "1  fa629d3c6eca09ff631cee60c1636657     text1        1   \n",
       "2  fa629d3c6eca09ff631cee60c1636657     text1        2   \n",
       "3  fa629d3c6eca09ff631cee60c1636657     text1        3   \n",
       "4  fa629d3c6eca09ff631cee60c1636657     text1        4   \n",
       "\n",
       "                                               quote   quote_index  \\\n",
       "0  that Trump wouldn't be able to post for 24 hou...     (84, 173)   \n",
       "1  that these actions follow years of hemming and...    (302, 489)   \n",
       "2  what happened in Washington, D.C., on Wednesda...    (592, 813)   \n",
       "3                           \\n \"This is what happens  (1012, 1035)   \n",
       "4       They're creeping along towards firmer action  (1352, 1396)   \n",
       "\n",
       "                                      quote_entities  \\\n",
       "0                    [(Trump, PERSON), (Trump, ORG)]   \n",
       "1                    [(Trump, PERSON), (Trump, ORG)]   \n",
       "2  [(Washington, GPE), (Trump, PERSON), (D.C., GP...   \n",
       "3                                                 []   \n",
       "4                                                 []   \n",
       "\n",
       "                                             speaker speaker_index  \\\n",
       "0       Facebook and Instagram, which Facebook owns,       (0, 44)   \n",
       "1                                            experts    (288, 295)   \n",
       "2  Jennifer Grygiel, a Syracuse University commun...    (491, 586)   \n",
       "3                                            Grygiel  (1038, 1045)   \n",
       "4                                            Grygiel  (1399, 1406)   \n",
       "\n",
       "                                    speaker_entities        verb  \\\n",
       "0                [(Instagram, ORG), (Facebook, ORG)]  announcing   \n",
       "1                                                 []       noted   \n",
       "2  [(Syracuse University, ORG), (Grygiel, PERSON)...        said   \n",
       "3                                [(Grygiel, PERSON)]        said   \n",
       "4                                [(Grygiel, PERSON)]        said   \n",
       "\n",
       "     verb_index  quote_token_count quote_type  is_floating_quote  \n",
       "0      (73, 83)                 17        SVC              False  \n",
       "1    (296, 301)                 26        SVC              False  \n",
       "2    (587, 591)                 38        SVC              False  \n",
       "3  (1046, 1050)                  6        CSV              False  \n",
       "4  (1407, 1411)                  7      QCQSV              False  "
      ]
     },
     "execution_count": 4,
     "metadata": {},
     "output_type": "execute_result"
    }
   ],
   "source": [
    "# specify the named entities you wish to include below\n",
    "inc_ent = ['ORG','PERSON','GPE','NORP','FAC','LOC']\n",
    "\n",
    "# specify the number of rows you wish to display\n",
    "n=5\n",
    "\n",
    "# extract quotes from the text and preview them in a pandas dataframe (table) format\n",
    "quotes_df = qt.get_quotes(inc_ent)\n",
    "\n",
    "# display a preview of the pandas dataframe\n",
    "quotes_df.head(n)"
   ]
  },
  {
   "cell_type": "markdown",
   "id": "079bc8a7",
   "metadata": {},
   "source": [
    "<div class=\"alert alert-block alert-warning\">\n",
    "<b>What information is included in the above table?</b> \n",
    "\n",
    "In general, the quotes are extracted either based on syntactic or heuristic rules. Some quotes can be stand-alone in a sentence, or followed by another quote (floating quote) from the same speaker. Please refer to [this document](https://doi.org/10.1371/journal.pone.0245533.s001) for further information about the quote extraction process.  \n",
    "    \n",
    "**text_id:** the unique ID of the text.\n",
    "    \n",
    "**text_name** the name of the text, i.e., the name of the .txt files or the 'text_name' column in the excel spreadsheet.\n",
    "    \n",
    "**quote_id/speaker_id:** the unique ID of the extracted quote/speaker.\n",
    "    \n",
    "**quote/speaker:** the content of the extracted quote and the speaker.\n",
    "    \n",
    "**verb:** the verb used to determine the extracted quote.\n",
    "    \n",
    "**quote_index/speaker_index/verb_index:** the location of the first and the last characters of the extracted quote/speaker/verb in the text.\n",
    "    \n",
    "**quote_entities/speaker_entities:** the entity name and type of the entities identified in the extracted quote/speaker.\n",
    "    \n",
    "**quote_token_count:** the length of the extracted quote (in character).\n",
    "    \n",
    "**quote_type:** the type of quote based on how it is extracted.\n",
    "    \n",
    "**floating_quote:** whether the extracted quote is a floating quote, i.e., a follow up quote from the same speaker.\n",
    "\n",
    "**Quotation symbols:** Q (Quotation mark), S (Speaker), V (Verb), C (Content).  \n",
    "\n",
    "**Named Entities:**  PERSON (People, including fictional), NORP (Nationalities or religious or political groups), FAC (Buildings, airports, highways, etc.), ORG (Companies, agencies, institutions, etc.), GPE (Countries, cities, states), LOC (Non-GPE locations, mountain ranges, bodies of water).\n",
    "</div>"
   ]
  },
  {
   "cell_type": "markdown",
   "id": "70be6223",
   "metadata": {},
   "source": [
    "## 4. Display the quotes\n",
    "Once you have extracted the quotes, you can see a preview of the quotes using spaCy's visualisation tool, displaCy. \n",
    "\n",
    "<div class=\"alert alert-block alert-info\">\n",
    "<b>Tools:</b>    \n",
    "\n",
    "- displaCy: for displaying quotes, speakers and named entities\n",
    "- ipywidgets: for interactive tool\n",
    "</div>\n",
    "\n",
    "<div class=\"alert alert-block alert-danger\">\n",
    "<b>Select the text and the entities to show</b> \n",
    "\n",
    "In order to preview the extracted information, you need to select the text you wish to analyse and which entities to show. Then, you can click the ***Preview*** button to display them and the ***Save Preview*** button to save them as an html file. \n",
    "</div>\n",
    "\n",
    "<div class=\"alert alert-block alert-warning\">\n",
    "<b>Saving files</b> \n",
    "\n",
    "When you save a file, the saved file will be stored in the output folder on the left hand side. If you need assistance with downloading the file, please refer to [this user guide](https://github.com/Sydney-Informatics-Hub/HASS-29_Quotation_Tool/blob/main/documents/jupyter-notebook-guide.pdf).\n",
    "\n",
    "</div>"
   ]
  },
  {
   "cell_type": "code",
   "execution_count": 5,
   "id": "e536e55b",
   "metadata": {
    "scrolled": false
   },
   "outputs": [
    {
     "data": {
      "application/vnd.jupyter.widget-view+json": {
       "model_id": "562217fc0d0345dfa9e8161938661640",
       "version_major": 2,
       "version_minor": 0
      },
      "text/plain": [
       "VBox(children=(HBox(children=(VBox(children=(HTML(value='<b>Select which entity to show:</b>', placeholder='')…"
      ]
     },
     "metadata": {},
     "output_type": "display_data"
    }
   ],
   "source": [
    "# display a preview of the extracted quotes, speakers and entities within the text\n",
    "qt.analyse_quotes(inc_ent)"
   ]
  },
  {
   "cell_type": "markdown",
   "id": "4f5f4dc4",
   "metadata": {},
   "source": [
    "<div class=\"alert alert-block alert-danger\">\n",
    "<b>Select the text and the entities to show</b> \n",
    "\n",
    "You can also display the top named entitites identified in the quotes and/or speakers. You just need to select the text to analyse (option to analyse 'all texts' is also available), whether to display the identified entities in the speakers and/or quotes, whether to display the entity names and/or types, the number of top entities to display and finally, click the ***Show Top Entities*** and ***Save Top Entities*** buttons to display and save them, respectively. \n",
    "</div>"
   ]
  },
  {
   "cell_type": "code",
   "execution_count": null,
   "id": "a0a92980",
   "metadata": {},
   "outputs": [],
   "source": [
    "# check the top named entities identified in the quotes and/or speakers\n",
    "qt.analyse_entities(inc_ent)"
   ]
  },
  {
   "cell_type": "markdown",
   "id": "3607fd4b",
   "metadata": {},
   "source": [
    "## 5. Save the quotes\n",
    "Finally, you can run the below code to save the quotes pandas dataframe into an Excel spreadsheet and download them to your local computer.  \n",
    "\n",
    "<div class=\"alert alert-block alert-warning\">\n",
    "<b>Saving files</b> \n",
    "\n",
    "When you save a file, the saved file will be stored in the output folder on the left hand side. If you need assistance with downloading the file, please refer to [this user guide](https://github.com/Sydney-Informatics-Hub/HASS-29_Quotation_Tool/blob/main/documents/jupyter-notebook-guide.pdf).\n",
    "\n",
    "</div>"
   ]
  },
  {
   "cell_type": "code",
   "execution_count": null,
   "id": "ec7d0163",
   "metadata": {},
   "outputs": [],
   "source": [
    "# save quotes_df into an Excel spreadsheet\n",
    "quotes_df.to_excel('./output/quotes.xlsx', index=False)"
   ]
  }
 ],
 "metadata": {
  "celltoolbar": "Raw Cell Format",
  "kernelspec": {
   "display_name": "Python 3 (ipykernel)",
   "language": "python",
   "name": "python3"
  },
  "language_info": {
   "codemirror_mode": {
    "name": "ipython",
    "version": 3
   },
   "file_extension": ".py",
   "mimetype": "text/x-python",
   "name": "python",
   "nbconvert_exporter": "python",
   "pygments_lexer": "ipython3",
   "version": "3.8.13"
  },
  "vscode": {
   "interpreter": {
    "hash": "50e9832c473c86713864f61257029e15f281e1af6f46dd8361ab2dc7ec7915dd"
   }
  }
 },
 "nbformat": 4,
 "nbformat_minor": 5
}
